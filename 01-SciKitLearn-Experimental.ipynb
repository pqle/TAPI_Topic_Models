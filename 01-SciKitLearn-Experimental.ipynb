{
 "cells": [
  {
   "cell_type": "markdown",
   "metadata": {},
   "source": [
    "# Topic Modeling with SciKit Learn &mdash; Experimental\n",
    "\n",
    "In this notebook we create a topic model from our corpus  using SciKit Learn's library. We'll save our results and then use another notebook to explore the results.\n",
    "\n",
    "Experimental = developing a low code interface to working with SciKit Learn, etc."
   ]
  },
  {
   "cell_type": "markdown",
   "metadata": {},
   "source": [
    "# Set Up"
   ]
  },
  {
   "cell_type": "markdown",
   "metadata": {},
   "source": [
    "## Imports"
   ]
  },
  {
   "cell_type": "code",
   "execution_count": 1,
   "metadata": {},
   "outputs": [],
   "source": [
    "import pandas as pd\n",
    "import numpy as np\n",
    "from lib import tapi, etal"
   ]
  },
  {
   "cell_type": "markdown",
   "metadata": {},
   "source": [
    "## Configuration"
   ]
  },
  {
   "cell_type": "markdown",
   "metadata": {},
   "source": [
    "### Show and pick a corpus to work with"
   ]
  },
  {
   "cell_type": "code",
   "execution_count": 2,
   "metadata": {
    "scrolled": true
   },
   "outputs": [
    {
     "data": {
      "text/plain": [
       "['airbnb',\n",
       " 'anphoblacht',\n",
       " 'arxiv',\n",
       " 'covid19',\n",
       " 'jstor_hyperparameter',\n",
       " 'novels',\n",
       " 'okcupid',\n",
       " 'tamilnet',\n",
       " 'winereviews',\n",
       " 'yelp',\n",
       " 'zuboff']"
      ]
     },
     "execution_count": 2,
     "metadata": {},
     "output_type": "execute_result"
    }
   ],
   "source": [
    "tapi.list_corpora()"
   ]
  },
  {
   "cell_type": "code",
   "execution_count": 17,
   "metadata": {},
   "outputs": [],
   "source": [
    "# data_prefix = 'winereviews'\n",
    "data_prefix = 'tamilnet'"
   ]
  },
  {
   "cell_type": "markdown",
   "metadata": {},
   "source": [
    "## Create Tables Object\n",
    "\n",
    "These tables constitute a \"digital critical edition.\""
   ]
  },
  {
   "cell_type": "code",
   "execution_count": 4,
   "metadata": {},
   "outputs": [],
   "source": [
    "db = tapi.Edition(data_prefix)"
   ]
  },
  {
   "cell_type": "markdown",
   "metadata": {},
   "source": [
    "## Parameters"
   ]
  },
  {
   "cell_type": "code",
   "execution_count": 5,
   "metadata": {},
   "outputs": [],
   "source": [
    "db.n_terms = 4000        # Vocabulary size\n",
    "db.ngram_range = (2, 4)  # ngram min and max lengths\n",
    "db.n_topics = 20         # Number of topics\n",
    "db.max_iter = 5          # Number of iterations for topic model"
   ]
  },
  {
   "cell_type": "markdown",
   "metadata": {},
   "source": [
    "# Import Corpus Data\n",
    "\n",
    "We import a corpus in our standard format"
   ]
  },
  {
   "cell_type": "code",
   "execution_count": 6,
   "metadata": {
    "scrolled": true
   },
   "outputs": [
    {
     "name": "stdout",
     "output_type": "stream",
     "text": [
      "Initializing Count Engine.\n",
      "Generating Count Model.\n",
      "Initializing TFIDF Engine.\n",
      "Generating TFIDF Model.\n",
      "Extracting VOCABulary.\n",
      "Creating Bag of Words table.\n",
      "Applying stats to VOCAB.\n"
     ]
    },
    {
     "data": {
      "text/plain": [
       "<lib.tapi.Edition at 0x7ffc850ce040>"
      ]
     },
     "execution_count": 6,
     "metadata": {},
     "output_type": "execute_result"
    }
   ],
   "source": [
    "db.import_corpus().create_bow()"
   ]
  },
  {
   "cell_type": "markdown",
   "metadata": {
    "toc-hr-collapsed": false
   },
   "source": [
    "# Generate Topic Models\n",
    "\n",
    "We run Scikit Learn's [LatentDirichletAllocation algorithm](https://scikit-learn.org/stable/modules/generated/sklearn.decomposition.LatentDirichletAllocation.html#sklearn.decomposition.LatentDirichletAllocation) and extract the THETA and PHI tables."
   ]
  },
  {
   "cell_type": "code",
   "execution_count": 8,
   "metadata": {},
   "outputs": [
    {
     "name": "stdout",
     "output_type": "stream",
     "text": [
      "Initializing NMF Engine.\n",
      "Generating NMF Model.\n",
      "Extracting NMF Doc-Topic Matrix.\n",
      "Extracting NMF Term-Topic Matrix.\n",
      "Extracting NMF Topics.\n"
     ]
    },
    {
     "data": {
      "text/plain": [
       "<lib.tapi.Edition at 0x7ffc850ce040>"
      ]
     },
     "execution_count": 8,
     "metadata": {},
     "output_type": "execute_result"
    }
   ],
   "source": [
    "db.create_nmf()"
   ]
  },
  {
   "cell_type": "code",
   "execution_count": 9,
   "metadata": {
    "scrolled": true
   },
   "outputs": [
    {
     "name": "stdout",
     "output_type": "stream",
     "text": [
      "Initializing LDA Engine.\n",
      "Generating LDA Model.\n",
      "Extracting LDA Doc-Topic Matrix.\n",
      "Extracting LDA Term-Topic Matrix.\n",
      "Extracting LDA Topics.\n"
     ]
    },
    {
     "data": {
      "text/plain": [
       "<lib.tapi.Edition at 0x7ffc850ce040>"
      ]
     },
     "execution_count": 9,
     "metadata": {},
     "output_type": "execute_result"
    }
   ],
   "source": [
    "db.create_lda()"
   ]
  },
  {
   "cell_type": "code",
   "execution_count": 12,
   "metadata": {},
   "outputs": [
    {
     "data": {
      "text/html": [
       "<style  type=\"text/css\" >\n",
       "#T_efb89_row0_col0{\n",
       "            width:  10em;\n",
       "             height:  80%;\n",
       "            background:  linear-gradient(90deg,#d65f5f 100.0%, transparent 100.0%);\n",
       "        }#T_efb89_row1_col0{\n",
       "            width:  10em;\n",
       "             height:  80%;\n",
       "            background:  linear-gradient(90deg,#d65f5f 62.7%, transparent 62.7%);\n",
       "        }#T_efb89_row2_col0{\n",
       "            width:  10em;\n",
       "             height:  80%;\n",
       "            background:  linear-gradient(90deg,#d65f5f 55.1%, transparent 55.1%);\n",
       "        }#T_efb89_row3_col0{\n",
       "            width:  10em;\n",
       "             height:  80%;\n",
       "            background:  linear-gradient(90deg,#d65f5f 46.8%, transparent 46.8%);\n",
       "        }#T_efb89_row4_col0{\n",
       "            width:  10em;\n",
       "             height:  80%;\n",
       "            background:  linear-gradient(90deg,#d65f5f 43.1%, transparent 43.1%);\n",
       "        }#T_efb89_row5_col0{\n",
       "            width:  10em;\n",
       "             height:  80%;\n",
       "            background:  linear-gradient(90deg,#d65f5f 42.3%, transparent 42.3%);\n",
       "        }#T_efb89_row6_col0{\n",
       "            width:  10em;\n",
       "             height:  80%;\n",
       "            background:  linear-gradient(90deg,#d65f5f 41.0%, transparent 41.0%);\n",
       "        }#T_efb89_row7_col0{\n",
       "            width:  10em;\n",
       "             height:  80%;\n",
       "            background:  linear-gradient(90deg,#d65f5f 40.3%, transparent 40.3%);\n",
       "        }#T_efb89_row8_col0{\n",
       "            width:  10em;\n",
       "             height:  80%;\n",
       "            background:  linear-gradient(90deg,#d65f5f 34.2%, transparent 34.2%);\n",
       "        }#T_efb89_row9_col0{\n",
       "            width:  10em;\n",
       "             height:  80%;\n",
       "            background:  linear-gradient(90deg,#d65f5f 32.3%, transparent 32.3%);\n",
       "        }#T_efb89_row10_col0{\n",
       "            width:  10em;\n",
       "             height:  80%;\n",
       "            background:  linear-gradient(90deg,#d65f5f 28.4%, transparent 28.4%);\n",
       "        }#T_efb89_row11_col0{\n",
       "            width:  10em;\n",
       "             height:  80%;\n",
       "            background:  linear-gradient(90deg,#d65f5f 28.0%, transparent 28.0%);\n",
       "        }#T_efb89_row12_col0{\n",
       "            width:  10em;\n",
       "             height:  80%;\n",
       "            background:  linear-gradient(90deg,#d65f5f 27.6%, transparent 27.6%);\n",
       "        }#T_efb89_row13_col0{\n",
       "            width:  10em;\n",
       "             height:  80%;\n",
       "            background:  linear-gradient(90deg,#d65f5f 25.5%, transparent 25.5%);\n",
       "        }#T_efb89_row14_col0{\n",
       "            width:  10em;\n",
       "             height:  80%;\n",
       "            background:  linear-gradient(90deg,#d65f5f 20.6%, transparent 20.6%);\n",
       "        }#T_efb89_row15_col0{\n",
       "            width:  10em;\n",
       "             height:  80%;\n",
       "            background:  linear-gradient(90deg,#d65f5f 19.0%, transparent 19.0%);\n",
       "        }#T_efb89_row16_col0{\n",
       "            width:  10em;\n",
       "             height:  80%;\n",
       "            background:  linear-gradient(90deg,#d65f5f 16.0%, transparent 16.0%);\n",
       "        }#T_efb89_row17_col0{\n",
       "            width:  10em;\n",
       "             height:  80%;\n",
       "            background:  linear-gradient(90deg,#d65f5f 8.1%, transparent 8.1%);\n",
       "        }#T_efb89_row18_col0{\n",
       "            width:  10em;\n",
       "             height:  80%;\n",
       "            background:  linear-gradient(90deg,#d65f5f 8.0%, transparent 8.0%);\n",
       "        }#T_efb89_row19_col0{\n",
       "            width:  10em;\n",
       "             height:  80%;\n",
       "        }</style><table id=\"T_efb89_\" ><thead>    <tr>        <th class=\"blank level0\" ></th>        <th class=\"col_heading level0 col0\" >preponderance</th>        <th class=\"col_heading level0 col1\" >label</th>    </tr>    <tr>        <th class=\"index_name level0\" >topic_id</th>        <th class=\"blank\" ></th>        <th class=\"blank\" ></th>    </tr></thead><tbody>\n",
       "                <tr>\n",
       "                        <th id=\"T_efb89_level0_row0\" class=\"row_heading level0 row0\" >10</th>\n",
       "                        <td id=\"T_efb89_row0_col0\" class=\"data row0 col0\" >950.292998</td>\n",
       "                        <td id=\"T_efb89_row0_col1\" class=\"data row0 col1\" >10: black cherry, palate offers, sauvignon blanc, palate delivers, opens aromas, tannins drink, lead nose</td>\n",
       "            </tr>\n",
       "            <tr>\n",
       "                        <th id=\"T_efb89_level0_row1\" class=\"row_heading level0 row1\" >2</th>\n",
       "                        <td id=\"T_efb89_row1_col0\" class=\"data row1 col0\" >695.833071</td>\n",
       "                        <td id=\"T_efb89_row1_col1\" class=\"data row1 col1\" >2: ready drink, wine shows, nose palate, cherry fruit, soft tannins, drink 2015, wine ready</td>\n",
       "            </tr>\n",
       "            <tr>\n",
       "                        <th id=\"T_efb89_level0_row2\" class=\"row_heading level0 row2\" >0</th>\n",
       "                        <td id=\"T_efb89_row2_col0\" class=\"data row2 col0\" >643.925211</td>\n",
       "                        <td id=\"T_efb89_row2_col1\" class=\"data row2 col1\" >0: fruit flavors, black fruit, black fruits, black pepper, dark fruit, berry aromas, cherry plum</td>\n",
       "            </tr>\n",
       "            <tr>\n",
       "                        <th id=\"T_efb89_level0_row3\" class=\"row_heading level0 row3\" >9</th>\n",
       "                        <td id=\"T_efb89_row3_col0\" class=\"data row3 col0\" >587.844451</td>\n",
       "                        <td id=\"T_efb89_row3_col1\" class=\"data row3 col1\" >9: black currant, dark chocolate, ripe fruit, fruit flavors, drink 2018, new oak, blackberry black</td>\n",
       "            </tr>\n",
       "            <tr>\n",
       "                        <th id=\"T_efb89_level0_row4\" class=\"row_heading level0 row4\" >17</th>\n",
       "                        <td id=\"T_efb89_row4_col0\" class=\"data row4 col0\" >562.232363</td>\n",
       "                        <td id=\"T_efb89_row4_col1\" class=\"data row4 col1\" >17: red fruit, fruit flavors, red cherry, cherry raspberry, flavored wine, red wine, lively acidity</td>\n",
       "            </tr>\n",
       "            <tr>\n",
       "                        <th id=\"T_efb89_level0_row5\" class=\"row_heading level0 row5\" >3</th>\n",
       "                        <td id=\"T_efb89_row5_col0\" class=\"data row5 col0\" >557.031719</td>\n",
       "                        <td id=\"T_efb89_row5_col1\" class=\"data row5 col1\" >3: firm tannins, drink 2020, cabernet sauvignon, petit verdot, drink 2017, citrus flavors, acidity drink</td>\n",
       "            </tr>\n",
       "            <tr>\n",
       "                        <th id=\"T_efb89_level0_row6\" class=\"row_heading level0 row6\" >13</th>\n",
       "                        <td id=\"T_efb89_row6_col0\" class=\"data row6 col0\" >548.195831</td>\n",
       "                        <td id=\"T_efb89_row6_col1\" class=\"data row6 col1\" >13: cabernet franc, crisp acidity, cabernet sauvignon, fruity wine, finish drink, spice flavors, peach flavors</td>\n",
       "            </tr>\n",
       "            <tr>\n",
       "                        <th id=\"T_efb89_level0_row7\" class=\"row_heading level0 row7\" >11</th>\n",
       "                        <td id=\"T_efb89_row7_col0\" class=\"data row7 col0\" >543.592389</td>\n",
       "                        <td id=\"T_efb89_row7_col1\" class=\"data row7 col1\" >11: fruit aromas, red plum, plum berry, wood aging, bright acidity, palate shows, berry flavors</td>\n",
       "            </tr>\n",
       "            <tr>\n",
       "                        <th id=\"T_efb89_level0_row8\" class=\"row_heading level0 row8\" >15</th>\n",
       "                        <td id=\"T_efb89_row8_col0\" class=\"data row8 col0\" >502.006179</td>\n",
       "                        <td id=\"T_efb89_row8_col1\" class=\"data row8 col1\" >15: apple flavors, light bodied, creamy texture, ready drink, wine light, wine dry, pink grapefruit</td>\n",
       "            </tr>\n",
       "            <tr>\n",
       "                        <th id=\"T_efb89_level0_row9\" class=\"row_heading level0 row9\" >14</th>\n",
       "                        <td id=\"T_efb89_row9_col0\" class=\"data row9 col0\" >488.516511</td>\n",
       "                        <td id=\"T_efb89_row9_col1\" class=\"data row9 col1\" >14: pinot noir, medium bodied, bodied wine, cherry flavors, black cherry, white wine, yellow fruits</td>\n",
       "            </tr>\n",
       "            <tr>\n",
       "                        <th id=\"T_efb89_level0_row10\" class=\"row_heading level0 row10\" >19</th>\n",
       "                        <td id=\"T_efb89_row10_col0\" class=\"data row10 col0\" >461.986947</td>\n",
       "                        <td id=\"T_efb89_row10_col1\" class=\"data row10 col1\" >19: white pepper, lemon lime, green apple, stainless steel, lingering finish, nose bottling, lime acidity</td>\n",
       "            </tr>\n",
       "            <tr>\n",
       "                        <th id=\"T_efb89_level0_row11\" class=\"row_heading level0 row11\" >1</th>\n",
       "                        <td id=\"T_efb89_row11_col0\" class=\"data row11 col0\" >459.536348</td>\n",
       "                        <td id=\"T_efb89_row11_col1\" class=\"data row11 col1\" >1: tropical fruit, french oak, plum flavors, age years, new french, wine age, new french oak</td>\n",
       "            </tr>\n",
       "            <tr>\n",
       "                        <th id=\"T_efb89_level0_row12\" class=\"row_heading level0 row12\" >6</th>\n",
       "                        <td id=\"T_efb89_row12_col0\" class=\"data row12 col0\" >456.712331</td>\n",
       "                        <td id=\"T_efb89_row12_col1\" class=\"data row12 col1\" >6: flavors finish, black plum, aromas black, oak flavors, red currant, high alcohol, brown sugar</td>\n",
       "            </tr>\n",
       "            <tr>\n",
       "                        <th id=\"T_efb89_level0_row13\" class=\"row_heading level0 row13\" >4</th>\n",
       "                        <td id=\"T_efb89_row13_col0\" class=\"data row13 col0\" >442.125438</td>\n",
       "                        <td id=\"T_efb89_row13_col1\" class=\"data row13 col1\" >4: red berry, aromas flavors, stone fruit, brisk acidity, lemon zest, berry flavors, baking spices</td>\n",
       "            </tr>\n",
       "            <tr>\n",
       "                        <th id=\"T_efb89_level0_row14\" class=\"row_heading level0 row14\" >12</th>\n",
       "                        <td id=\"T_efb89_row14_col0\" class=\"data row14 col0\" >408.856713</td>\n",
       "                        <td id=\"T_efb89_row14_col1\" class=\"data row14 col1\" >12: drink 2016, orange peel, single vineyard, white flower, red black, red apple, dense wine</td>\n",
       "            </tr>\n",
       "            <tr>\n",
       "                        <th id=\"T_efb89_level0_row15\" class=\"row_heading level0 row15\" >16</th>\n",
       "                        <td id=\"T_efb89_row15_col0\" class=\"data row15 col0\" >398.216338</td>\n",
       "                        <td id=\"T_efb89_row15_col1\" class=\"data row15 col1\" >16: long finish, bone dry, old vines, sour cherry, vanilla flavors, pinot gris, cherry cola</td>\n",
       "            </tr>\n",
       "            <tr>\n",
       "                        <th id=\"T_efb89_level0_row16\" class=\"row_heading level0 row16\" >7</th>\n",
       "                        <td id=\"T_efb89_row16_col0\" class=\"data row16 col0\" >377.771877</td>\n",
       "                        <td id=\"T_efb89_row16_col1\" class=\"data row16 col1\" >7: wine offers, rich wine, raspberry cherry, raspberry fruit, juicy acidity, fresh lemon, acidity finish</td>\n",
       "            </tr>\n",
       "            <tr>\n",
       "                        <th id=\"T_efb89_level0_row17\" class=\"row_heading level0 row17\" >8</th>\n",
       "                        <td id=\"T_efb89_row17_col0\" class=\"data row17 col0\" >323.562877</td>\n",
       "                        <td id=\"T_efb89_row17_col1\" class=\"data row17 col1\" >8: cabernet sauvignon, red fruits, milk chocolate, cherry aromas, blend sangiovese, plum cherry, floral notes</td>\n",
       "            </tr>\n",
       "            <tr>\n",
       "                        <th id=\"T_efb89_level0_row18\" class=\"row_heading level0 row18\" >18</th>\n",
       "                        <td id=\"T_efb89_row18_col0\" class=\"data row18 col0\" >323.222696</td>\n",
       "                        <td id=\"T_efb89_row18_col1\" class=\"data row18 col1\" >18: passion fruit, residual sugar, tastes like, dry style, textured wine, slightly sweet, dessert wine</td>\n",
       "            </tr>\n",
       "            <tr>\n",
       "                        <th id=\"T_efb89_level0_row19\" class=\"row_heading level0 row19\" >5</th>\n",
       "                        <td id=\"T_efb89_row19_col0\" class=\"data row19 col0\" >268.537714</td>\n",
       "                        <td id=\"T_efb89_row19_col1\" class=\"data row19 col1\" >5: apple pear, blackberry cherry, dry wine, fruit driven, ripe apple, vanilla spice, estate grown</td>\n",
       "            </tr>\n",
       "    </tbody></table>"
      ],
      "text/plain": [
       "<pandas.io.formats.style.Styler at 0x7ffc875809d0>"
      ]
     },
     "execution_count": 12,
     "metadata": {},
     "output_type": "execute_result"
    }
   ],
   "source": [
    "db.TOPICS.sort_values('preponderance', ascending=False).style.bar()"
   ]
  },
  {
   "cell_type": "code",
   "execution_count": 13,
   "metadata": {},
   "outputs": [
    {
     "data": {
      "text/html": [
       "<style  type=\"text/css\" >\n",
       "#T_024f7_row0_col0{\n",
       "            width:  10em;\n",
       "             height:  80%;\n",
       "            background:  linear-gradient(90deg,#d65f5f 100.0%, transparent 100.0%);\n",
       "        }#T_024f7_row1_col0{\n",
       "            width:  10em;\n",
       "             height:  80%;\n",
       "            background:  linear-gradient(90deg,#d65f5f 73.2%, transparent 73.2%);\n",
       "        }#T_024f7_row2_col0{\n",
       "            width:  10em;\n",
       "             height:  80%;\n",
       "            background:  linear-gradient(90deg,#d65f5f 71.3%, transparent 71.3%);\n",
       "        }#T_024f7_row3_col0{\n",
       "            width:  10em;\n",
       "             height:  80%;\n",
       "            background:  linear-gradient(90deg,#d65f5f 70.2%, transparent 70.2%);\n",
       "        }#T_024f7_row4_col0{\n",
       "            width:  10em;\n",
       "             height:  80%;\n",
       "            background:  linear-gradient(90deg,#d65f5f 52.6%, transparent 52.6%);\n",
       "        }#T_024f7_row5_col0{\n",
       "            width:  10em;\n",
       "             height:  80%;\n",
       "            background:  linear-gradient(90deg,#d65f5f 37.2%, transparent 37.2%);\n",
       "        }#T_024f7_row6_col0{\n",
       "            width:  10em;\n",
       "             height:  80%;\n",
       "            background:  linear-gradient(90deg,#d65f5f 32.6%, transparent 32.6%);\n",
       "        }#T_024f7_row7_col0{\n",
       "            width:  10em;\n",
       "             height:  80%;\n",
       "            background:  linear-gradient(90deg,#d65f5f 29.2%, transparent 29.2%);\n",
       "        }#T_024f7_row8_col0{\n",
       "            width:  10em;\n",
       "             height:  80%;\n",
       "            background:  linear-gradient(90deg,#d65f5f 28.2%, transparent 28.2%);\n",
       "        }#T_024f7_row9_col0{\n",
       "            width:  10em;\n",
       "             height:  80%;\n",
       "            background:  linear-gradient(90deg,#d65f5f 17.5%, transparent 17.5%);\n",
       "        }#T_024f7_row10_col0{\n",
       "            width:  10em;\n",
       "             height:  80%;\n",
       "            background:  linear-gradient(90deg,#d65f5f 16.8%, transparent 16.8%);\n",
       "        }#T_024f7_row11_col0{\n",
       "            width:  10em;\n",
       "             height:  80%;\n",
       "            background:  linear-gradient(90deg,#d65f5f 15.2%, transparent 15.2%);\n",
       "        }#T_024f7_row12_col0{\n",
       "            width:  10em;\n",
       "             height:  80%;\n",
       "            background:  linear-gradient(90deg,#d65f5f 13.8%, transparent 13.8%);\n",
       "        }#T_024f7_row13_col0{\n",
       "            width:  10em;\n",
       "             height:  80%;\n",
       "            background:  linear-gradient(90deg,#d65f5f 12.7%, transparent 12.7%);\n",
       "        }#T_024f7_row14_col0{\n",
       "            width:  10em;\n",
       "             height:  80%;\n",
       "            background:  linear-gradient(90deg,#d65f5f 10.3%, transparent 10.3%);\n",
       "        }#T_024f7_row15_col0{\n",
       "            width:  10em;\n",
       "             height:  80%;\n",
       "            background:  linear-gradient(90deg,#d65f5f 10.2%, transparent 10.2%);\n",
       "        }#T_024f7_row16_col0{\n",
       "            width:  10em;\n",
       "             height:  80%;\n",
       "            background:  linear-gradient(90deg,#d65f5f 7.9%, transparent 7.9%);\n",
       "        }#T_024f7_row17_col0{\n",
       "            width:  10em;\n",
       "             height:  80%;\n",
       "            background:  linear-gradient(90deg,#d65f5f 4.3%, transparent 4.3%);\n",
       "        }#T_024f7_row18_col0{\n",
       "            width:  10em;\n",
       "             height:  80%;\n",
       "            background:  linear-gradient(90deg,#d65f5f 3.1%, transparent 3.1%);\n",
       "        }#T_024f7_row19_col0{\n",
       "            width:  10em;\n",
       "             height:  80%;\n",
       "        }</style><table id=\"T_024f7_\" ><thead>    <tr>        <th class=\"blank level0\" ></th>        <th class=\"col_heading level0 col0\" >preponderance</th>        <th class=\"col_heading level0 col1\" >label</th>    </tr>    <tr>        <th class=\"index_name level0\" >topic_id</th>        <th class=\"blank\" ></th>        <th class=\"blank\" ></th>    </tr></thead><tbody>\n",
       "                <tr>\n",
       "                        <th id=\"T_024f7_level0_row0\" class=\"row_heading level0 row0\" >6</th>\n",
       "                        <td id=\"T_024f7_row0_col0\" class=\"data row0 col0\" >34.594302</td>\n",
       "                        <td id=\"T_024f7_row0_col1\" class=\"data row0 col1\" >6: palate offers, grained tannins, fine grained, fine grained tannins, opens aromas, lead nose, tannins drink</td>\n",
       "            </tr>\n",
       "            <tr>\n",
       "                        <th id=\"T_024f7_level0_row1\" class=\"row_heading level0 row1\" >0</th>\n",
       "                        <td id=\"T_024f7_row1_col0\" class=\"data row1 col0\" >29.073242</td>\n",
       "                        <td id=\"T_024f7_row1_col1\" class=\"data row1 col1\" >0: black cherry, black cherry fruit, black cherry flavors, ripe black, blackberry black cherry, aromas black, ripe black cherry</td>\n",
       "            </tr>\n",
       "            <tr>\n",
       "                        <th id=\"T_024f7_level0_row2\" class=\"row_heading level0 row2\" >1</th>\n",
       "                        <td id=\"T_024f7_row2_col0\" class=\"data row2 col0\" >28.680874</td>\n",
       "                        <td id=\"T_024f7_row2_col1\" class=\"data row2 col1\" >1: fruit flavors, red fruit, red fruit flavors, dark fruit, black fruit flavors, dark fruit flavors, stone fruit flavors</td>\n",
       "            </tr>\n",
       "            <tr>\n",
       "                        <th id=\"T_024f7_level0_row3\" class=\"row_heading level0 row3\" >3</th>\n",
       "                        <td id=\"T_024f7_row3_col0\" class=\"data row3 col0\" >28.455032</td>\n",
       "                        <td id=\"T_024f7_row3_col1\" class=\"data row3 col1\" >3: cabernet sauvignon, cabernet franc, petit verdot, blend cabernet, blend cabernet sauvignon, sauvignon merlot, cabernet sauvignon merlot</td>\n",
       "            </tr>\n",
       "            <tr>\n",
       "                        <th id=\"T_024f7_level0_row4\" class=\"row_heading level0 row4\" >2</th>\n",
       "                        <td id=\"T_024f7_row4_col0\" class=\"data row4 col0\" >24.823145</td>\n",
       "                        <td id=\"T_024f7_row4_col1\" class=\"data row4 col1\" >2: ready drink, wine ready, wine ready drink, fruity wine, red fruits, wine soft, acidity wine</td>\n",
       "            </tr>\n",
       "            <tr>\n",
       "                        <th id=\"T_024f7_level0_row5\" class=\"row_heading level0 row5\" >7</th>\n",
       "                        <td id=\"T_024f7_row5_col0\" class=\"data row5 col0\" >21.646815</td>\n",
       "                        <td id=\"T_024f7_row5_col1\" class=\"data row5 col1\" >7: medium bodied, bodied wine, medium bodied wine, aromas flavors, medium bodied palate, bodied palate, flavors like</td>\n",
       "            </tr>\n",
       "            <tr>\n",
       "                        <th id=\"T_024f7_level0_row6\" class=\"row_heading level0 row6\" >4</th>\n",
       "                        <td id=\"T_024f7_row6_col0\" class=\"data row6 col0\" >20.688912</td>\n",
       "                        <td id=\"T_024f7_row6_col1\" class=\"data row6 col1\" >4: pinot noir, raspberry cherry, silky texture, cherry flavors, chardonnay pinot noir, pinot noir dry, noir dry</td>\n",
       "            </tr>\n",
       "            <tr>\n",
       "                        <th id=\"T_024f7_level0_row7\" class=\"row_heading level0 row7\" >18</th>\n",
       "                        <td id=\"T_024f7_row7_col0\" class=\"data row7 col0\" >19.993520</td>\n",
       "                        <td id=\"T_024f7_row7_col1\" class=\"data row7 col1\" >18: berry fruits, red berry, red berry fruits, red berry flavors, ripe red berry, ripe red, drink 2017</td>\n",
       "            </tr>\n",
       "            <tr>\n",
       "                        <th id=\"T_024f7_level0_row8\" class=\"row_heading level0 row8\" >8</th>\n",
       "                        <td id=\"T_024f7_row8_col0\" class=\"data row8 col0\" >19.799163</td>\n",
       "                        <td id=\"T_024f7_row8_col1\" class=\"data row8 col1\" >8: black fruit, black fruit flavors, fruit aromas, black fruit aromas, red black fruit, red black, black fruit palate</td>\n",
       "            </tr>\n",
       "            <tr>\n",
       "                        <th id=\"T_024f7_level0_row9\" class=\"row_heading level0 row9\" >5</th>\n",
       "                        <td id=\"T_024f7_row9_col0\" class=\"data row9 col0\" >17.590620</td>\n",
       "                        <td id=\"T_024f7_row9_col1\" class=\"data row9 col1\" >5: green apple, white peach, apple flavors, green apple flavors, flavors green apple, flavors green, lime green</td>\n",
       "            </tr>\n",
       "            <tr>\n",
       "                        <th id=\"T_024f7_level0_row10\" class=\"row_heading level0 row10\" >11</th>\n",
       "                        <td id=\"T_024f7_row10_col0\" class=\"data row10 col0\" >17.433325</td>\n",
       "                        <td id=\"T_024f7_row10_col1\" class=\"data row10 col1\" >11: stone fruit, stone fruit flavors, aromas stone, aromas stone fruit, stone fruit citrus, white stone, white stone fruit</td>\n",
       "            </tr>\n",
       "            <tr>\n",
       "                        <th id=\"T_024f7_level0_row11\" class=\"row_heading level0 row11\" >19</th>\n",
       "                        <td id=\"T_024f7_row11_col0\" class=\"data row11 col0\" >17.111952</td>\n",
       "                        <td id=\"T_024f7_row11_col1\" class=\"data row11 col1\" >19: black pepper, petite sirah, black pepper flavors, pepper flavors, blackberry black pepper, wine offers, pepper black</td>\n",
       "            </tr>\n",
       "            <tr>\n",
       "                        <th id=\"T_024f7_level0_row12\" class=\"row_heading level0 row12\" >12</th>\n",
       "                        <td id=\"T_024f7_row12_col0\" class=\"data row12 col0\" >16.819974</td>\n",
       "                        <td id=\"T_024f7_row12_col1\" class=\"data row12 col1\" >12: berry flavors, red berry flavors, plum berry, cherry berry, cherry berry flavors, plum berry flavors, red berry</td>\n",
       "            </tr>\n",
       "            <tr>\n",
       "                        <th id=\"T_024f7_level0_row13\" class=\"row_heading level0 row13\" >17</th>\n",
       "                        <td id=\"T_024f7_row13_col0\" class=\"data row13 col0\" >16.598078</td>\n",
       "                        <td id=\"T_024f7_row13_col1\" class=\"data row13 col1\" >17: tropical fruit, tropical fruit flavors, ripe tropical, ripe tropical fruit, tropical fruit aromas, buttered toast, citrus tropical fruit</td>\n",
       "            </tr>\n",
       "            <tr>\n",
       "                        <th id=\"T_024f7_level0_row14\" class=\"row_heading level0 row14\" >16</th>\n",
       "                        <td id=\"T_024f7_row14_col0\" class=\"data row14 col0\" >16.098929</td>\n",
       "                        <td id=\"T_024f7_row14_col1\" class=\"data row14 col1\" >16: flavors finish, fruit flavors finish, plum flavors, flavors finish dry, plum flavors finish, finish dry, spice flavors finish</td>\n",
       "            </tr>\n",
       "            <tr>\n",
       "                        <th id=\"T_024f7_level0_row15\" class=\"row_heading level0 row15\" >9</th>\n",
       "                        <td id=\"T_024f7_row15_col0\" class=\"data row15 col0\" >16.077770</td>\n",
       "                        <td id=\"T_024f7_row15_col1\" class=\"data row15 col1\" >9: nose palate, lemon zest, rose petals, orange peel, palate light, play nose palate, play nose</td>\n",
       "            </tr>\n",
       "            <tr>\n",
       "                        <th id=\"T_024f7_level0_row16\" class=\"row_heading level0 row16\" >14</th>\n",
       "                        <td id=\"T_024f7_row16_col0\" class=\"data row16 col0\" >15.603079</td>\n",
       "                        <td id=\"T_024f7_row16_col1\" class=\"data row16 col1\" >14: white pepper, white pepper flavors, cherry white pepper, cherry white, pepper flavors, white pepper cinnamon, pepper dried</td>\n",
       "            </tr>\n",
       "            <tr>\n",
       "                        <th id=\"T_024f7_level0_row17\" class=\"row_heading level0 row17\" >13</th>\n",
       "                        <td id=\"T_024f7_row17_col0\" class=\"data row17 col0\" >14.864462</td>\n",
       "                        <td id=\"T_024f7_row17_col1\" class=\"data row17 col1\" >13: cherry fruit, black cherry fruit, raspberry cherry fruit, cherry fruit flavors, raspberry cherry, bright cherry fruit, strawberry cherry</td>\n",
       "            </tr>\n",
       "            <tr>\n",
       "                        <th id=\"T_024f7_level0_row18\" class=\"row_heading level0 row18\" >10</th>\n",
       "                        <td id=\"T_024f7_row18_col0\" class=\"data row18 col0\" >14.606762</td>\n",
       "                        <td id=\"T_024f7_row18_col1\" class=\"data row18 col1\" >10: sauvignon blanc, passion fruit, blanc sémillon, slightly sweet, fresh fruity, blanc wine, sauvignon blanc wine</td>\n",
       "            </tr>\n",
       "            <tr>\n",
       "                        <th id=\"T_024f7_level0_row19\" class=\"row_heading level0 row19\" >15</th>\n",
       "                        <td id=\"T_024f7_row19_col0\" class=\"data row19 col0\" >13.975170</td>\n",
       "                        <td id=\"T_024f7_row19_col1\" class=\"data row19 col1\" >15: french oak, new french, new french oak, 20 new french, 20 new, 60 new, half new</td>\n",
       "            </tr>\n",
       "    </tbody></table>"
      ],
      "text/plain": [
       "<pandas.io.formats.style.Styler at 0x7ffc691fb700>"
      ]
     },
     "execution_count": 13,
     "metadata": {},
     "output_type": "execute_result"
    }
   ],
   "source": [
    "db.TOPICS_NMF.sort_values('preponderance', ascending=False).style.bar()"
   ]
  },
  {
   "cell_type": "markdown",
   "metadata": {},
   "source": [
    "# Save the Model"
   ]
  },
  {
   "cell_type": "markdown",
   "metadata": {},
   "source": [
    "## Keep Corpus Label Info\n",
    "\n",
    "This is effectively the LIB table."
   ]
  },
  {
   "cell_type": "code",
   "execution_count": 14,
   "metadata": {},
   "outputs": [],
   "source": [
    "db.LABELS = db.corpus[set(db.corpus.columns.tolist()) - set(['doc_key', 'doc_content', 'doc_original'])]\n",
    "db.LABELS = db.LABELS.dropna(1)"
   ]
  },
  {
   "cell_type": "markdown",
   "metadata": {},
   "source": [
    "## Save data"
   ]
  },
  {
   "cell_type": "code",
   "execution_count": 15,
   "metadata": {
    "scrolled": true
   },
   "outputs": [],
   "source": [
    "db.save_tables()"
   ]
  },
  {
   "cell_type": "code",
   "execution_count": 16,
   "metadata": {},
   "outputs": [
    {
     "name": "stdout",
     "output_type": "stream",
     "text": [
      "-rw-r--r--@ 1 rca2t1  staff  2524273 Jun 16 01:18 ./db/winereviews-BOW.csv\r\n",
      "-rw-r--r--@ 1 rca2t1  staff        3 Jun 16 01:18 ./db/winereviews-DTM.csv\r\n",
      "-rw-r--r--@ 1 rca2t1  staff  1504341 Jun 16 01:18 ./db/winereviews-LABELS.csv\r\n",
      "-rw-r--r--@ 1 rca2t1  staff  2083714 Jun 16 01:18 ./db/winereviews-PHI.csv\r\n",
      "-rw-r--r--@ 1 rca2t1  staff   554277 Jun 16 01:18 ./db/winereviews-PHI_NMF.csv\r\n",
      "-rw-r--r--@ 1 rca2t1  staff  4195814 Jun 16 01:18 ./db/winereviews-THETA.csv\r\n",
      "-rw-r--r--@ 1 rca2t1  staff  1024505 Jun 16 01:18 ./db/winereviews-THETA_NMF.csv\r\n",
      "-rw-r--r--@ 1 rca2t1  staff     2485 Jun 16 01:18 ./db/winereviews-TOPICS.csv\r\n",
      "-rw-r--r--@ 1 rca2t1  staff     2842 Jun 16 01:18 ./db/winereviews-TOPICS_NMF.csv\r\n",
      "-rw-r--r--@ 1 rca2t1  staff   418844 Jun 16 01:18 ./db/winereviews-VOCAB.csv\r\n"
     ]
    }
   ],
   "source": [
    "!ls -l ./db/{data_prefix}*.csv"
   ]
  },
  {
   "cell_type": "code",
   "execution_count": null,
   "metadata": {},
   "outputs": [],
   "source": []
  }
 ],
 "metadata": {
  "kernelspec": {
   "display_name": "Python 3",
   "language": "python",
   "name": "python3"
  },
  "language_info": {
   "codemirror_mode": {
    "name": "ipython",
    "version": 3
   },
   "file_extension": ".py",
   "mimetype": "text/x-python",
   "name": "python",
   "nbconvert_exporter": "python",
   "pygments_lexer": "ipython3",
   "version": "3.8.8"
  },
  "latex_envs": {
   "LaTeX_envs_menu_present": true,
   "autoclose": false,
   "autocomplete": true,
   "bibliofile": "biblio.bib",
   "cite_by": "apalike",
   "current_citInitial": 1,
   "eqLabelWithNumbers": true,
   "eqNumInitial": 1,
   "hotkeys": {
    "equation": "Ctrl-E",
    "itemize": "Ctrl-I"
   },
   "labels_anchors": false,
   "latex_user_defs": false,
   "report_style_numbering": false,
   "user_envs_cfg": false
  },
  "toc": {
   "base_numbering": 1,
   "nav_menu": {},
   "number_sections": true,
   "sideBar": true,
   "skip_h1_title": false,
   "title_cell": "Table of Contents",
   "title_sidebar": "Contents",
   "toc_cell": false,
   "toc_position": {
    "height": "calc(100% - 180px)",
    "left": "10px",
    "top": "150px",
    "width": "165px"
   },
   "toc_section_display": true,
   "toc_window_display": false
  },
  "varInspector": {
   "cols": {
    "lenName": 16,
    "lenType": 16,
    "lenVar": 40
   },
   "kernels_config": {
    "python": {
     "delete_cmd_postfix": "",
     "delete_cmd_prefix": "del ",
     "library": "var_list.py",
     "varRefreshCmd": "print(var_dic_list())"
    },
    "r": {
     "delete_cmd_postfix": ") ",
     "delete_cmd_prefix": "rm(",
     "library": "var_list.r",
     "varRefreshCmd": "cat(var_dic_list()) "
    }
   },
   "types_to_exclude": [
    "module",
    "function",
    "builtin_function_or_method",
    "instance",
    "_Feature"
   ],
   "window_display": false
  },
  "widgets": {
   "application/vnd.jupyter.widget-state+json": {
    "state": {},
    "version_major": 2,
    "version_minor": 0
   }
  }
 },
 "nbformat": 4,
 "nbformat_minor": 4
}
